{
  "nbformat": 4,
  "nbformat_minor": 0,
  "metadata": {
    "colab": {
      "name": "blood-cells.ipynb",
      "version": "0.3.2",
      "provenance": [],
      "collapsed_sections": []
    },
    "kernelspec": {
      "name": "python3",
      "display_name": "Python 3"
    },
    "accelerator": "GPU"
  },
  "cells": [
    {
      "metadata": {
        "id": "yMx5jvyQZO0F",
        "colab_type": "code",
        "colab": {}
      },
      "cell_type": "code",
      "source": [
        "!pip install http://download.pytorch.org/whl/cu80/torch-0.3.0.post4-cp36-cp36m-linux_x86_64.whl && pip install torchvision\n",
        "!pip install fastai\n",
        "!apt update && apt install -y libsm6 libxext6\n",
        "!mkdir data && wget --header=\"Host: storage.googleapis.com\" --header=\"User-Agent: Mozilla/5.0 (Windows NT 10.0; Win64; x64) AppleWebKit/537.36 (KHTML, like Gecko) Chrome/67.0.3396.79 Safari/537.36\" --header=\"Accept: text/html,application/xhtml+xml,application/xml;q=0.9,image/webp,image/apng,*/*;q=0.8\" --header=\"Accept-Language: en-US,en;q=0.9\" \"https://storage.googleapis.com/kaggle-datasets/9232/29380/blood-cells.zip?GoogleAccessId=web-data@kaggle-161607.iam.gserviceaccount.com&Expires=1529156697&Signature=H3ygGWcRgYfHz5jN00k41reSQLw7fw6VUxpkQ2r9iyAsI%2FSJh4H8elr%2FZzjnDiBiQQH0QBLBWL3Ev4uk5CbTRG%2F2RhHgfEz%2BAoTG80%2FPaZHsAFpG2yuR3sLE4%2B634rcryuKx6xID95NPAsO6ZRfi0K1amV9ZtCbVfS9ZkkQ%2F7AljOzqudBttTyU8D2xfzyEGdSta%2BvM7QgizC2pCLXCNceC2pKxAWNs0jFIl7MOgW90SImG8ABIGkrgGzwcY2CrMageGVJG7BEG77b746Alr8eiHSO84aM3T3N%2BLr9QhQ1h%2FnbM9H3KooW7wWiLMAQ3iyzQmr2UvJ2dyxyD9rZ44Mw%3D%3D\" -O \"blood-cells.zip\" -c && unzip blood-cells.zip -d data/\n"
      ],
      "execution_count": 0,
      "outputs": []
    },
    {
      "metadata": {
        "id": "qYnSvJjpafqs",
        "colab_type": "code",
        "colab": {}
      },
      "cell_type": "code",
      "source": [
        "!unzip data/dataset2-master.zip -d data/"
      ],
      "execution_count": 0,
      "outputs": []
    },
    {
      "metadata": {
        "id": "ZZELzssMbIP2",
        "colab_type": "code",
        "colab": {}
      },
      "cell_type": "code",
      "source": [
        "from fastai.conv_learner import *\n",
        "from fastai.plots import *"
      ],
      "execution_count": 0,
      "outputs": []
    },
    {
      "metadata": {
        "id": "DBud3hXUcRzl",
        "colab_type": "code",
        "colab": {}
      },
      "cell_type": "code",
      "source": [
        "PATH = 'data/dataset2-master/images/'\n",
        "!ls {PATH}\n",
        "!ls {PATH}TRAIN"
      ],
      "execution_count": 0,
      "outputs": []
    },
    {
      "metadata": {
        "id": "uTQHJ44Dee0p",
        "colab_type": "code",
        "colab": {}
      },
      "cell_type": "code",
      "source": [
        "!ls {PATH}TRAIN/EOSINOPHIL | wc -l\n",
        "!ls {PATH}TRAIN/LYMPHOCYTE | wc -l\n",
        "!ls {PATH}TRAIN/MONOCYTE | wc -l\n",
        "!ls {PATH}TRAIN/NEUTROPHIL | wc -l\n"
      ],
      "execution_count": 0,
      "outputs": []
    },
    {
      "metadata": {
        "id": "_v8p2hSzdnBp",
        "colab_type": "code",
        "colab": {}
      },
      "cell_type": "code",
      "source": [
        "list_paths = [f\"{PATH}TRAIN/NEUTROPHIL/_102_3524.jpeg\", f\"{PATH}TRAIN/NEUTROPHIL/_131_7273.jpeg\"]\n",
        "titles=[\"Neutrophil 1\", \"Neutrophil 2\"]\n",
        "plots_from_files(list_paths, titles=titles, maintitle=\"Multi-label classification\")"
      ],
      "execution_count": 0,
      "outputs": []
    },
    {
      "metadata": {
        "id": "hFfCKv_XgVKu",
        "colab_type": "code",
        "colab": {}
      },
      "cell_type": "code",
      "source": [
        "n = 9957\n",
        "val_idxs = get_cv_idxs(n)"
      ],
      "execution_count": 0,
      "outputs": []
    },
    {
      "metadata": {
        "id": "jYnplA-ujABP",
        "colab_type": "code",
        "colab": {}
      },
      "cell_type": "code",
      "source": [
        "metrics = ['accuracy']\n",
        "model_arch = resnet34"
      ],
      "execution_count": 0,
      "outputs": []
    },
    {
      "metadata": {
        "id": "JBYixXQxjkdt",
        "colab_type": "code",
        "colab": {}
      },
      "cell_type": "code",
      "source": [
        "!mv {PATH}TRAIN {PATH}train\n",
        "!mv {PATH}TEST {PATH}test\n",
        "!mv {PATH}TEST_SIMPLE {PATH}valid"
      ],
      "execution_count": 0,
      "outputs": []
    },
    {
      "metadata": {
        "id": "XcMhHHOQjILm",
        "colab_type": "code",
        "colab": {}
      },
      "cell_type": "code",
      "source": [
        "def get_data(sz):\n",
        "    tfms = tfms_from_model(model_arch, sz, aug_tfms=transforms_top_down, max_zoom=1.05)\n",
        "    return ImageClassifierData.from_paths(PATH, tfms=tfms)"
      ],
      "execution_count": 0,
      "outputs": []
    },
    {
      "metadata": {
        "id": "jFDliBoij8m2",
        "colab_type": "code",
        "colab": {}
      },
      "cell_type": "code",
      "source": [
        "data = get_data(256)"
      ],
      "execution_count": 0,
      "outputs": []
    },
    {
      "metadata": {
        "id": "UziD0eisnLrp",
        "colab_type": "code",
        "colab": {
          "base_uri": "https://localhost:8080/",
          "height": 349
        },
        "outputId": "28e3fd4f-3a76-4c0a-ec07-6c58259d21ae"
      },
      "cell_type": "code",
      "source": [
        "x,y = next(iter(data.val_dl))\n",
        "plt.imshow(data.val_ds.denorm(to_np(x))[0]*1.4);"
      ],
      "execution_count": 46,
      "outputs": [
        {
          "output_type": "display_data",
          "data": {
            "image/png": "[encoded data removed]",
            "text/plain": [
              "<matplotlib.figure.Figure at 0x7f292a38d208>"
            ]
          },
          "metadata": {
            "tags": []
          }
        }
      ]
    },
    {
      "metadata": {
        "id": "BLi6AcNlnHts",
        "colab_type": "code",
        "colab": {}
      },
      "cell_type": "code",
      "source": [
        "sz=64"
      ],
      "execution_count": 0,
      "outputs": []
    },
    {
      "metadata": {
        "id": "Q5SGYYLtnTT-",
        "colab_type": "code",
        "colab": {}
      },
      "cell_type": "code",
      "source": [
        "data = get_data(sz)"
      ],
      "execution_count": 0,
      "outputs": []
    },
    {
      "metadata": {
        "id": "Mi6ed0Lhn-mx",
        "colab_type": "code",
        "colab": {}
      },
      "cell_type": "code",
      "source": [
        "data = data.resize(int(sz*1.3), 'tmp')"
      ],
      "execution_count": 0,
      "outputs": []
    },
    {
      "metadata": {
        "id": "QcQFB0OFoQCU",
        "colab_type": "code",
        "colab": {}
      },
      "cell_type": "code",
      "source": [
        "learn = ConvLearner.pretrained(model_arch, data)"
      ],
      "execution_count": 0,
      "outputs": []
    },
    {
      "metadata": {
        "id": "weyKRIlWpvYH",
        "colab_type": "code",
        "colab": {
          "base_uri": "https://localhost:8080/",
          "height": 398
        },
        "outputId": "b5065ada-b118-4cdd-972a-fd24b3680112"
      },
      "cell_type": "code",
      "source": [
        "lrf = learn.lr_find()\n",
        "learn.sched.plot()"
      ],
      "execution_count": 13,
      "outputs": [
        {
          "output_type": "display_data",
          "data": {
            "application/vnd.jupyter.widget-view+json": {
              "model_id": "22abbf2b55964503bee64a8b3864546e",
              "version_minor": 0,
              "version_major": 2
            },
            "text/plain": [
              "HBox(children=(IntProgress(value=0, description='Epoch', max=1), HTML(value='')))"
            ]
          },
          "metadata": {
            "tags": []
          }
        },
        {
          "output_type": "stream",
          "text": [
            " 87%|████████▋ | 135/156 [00:18<00:02,  7.40it/s, loss=7.14]"
          ],
          "name": "stdout"
        },
        {
          "output_type": "display_data",
          "data": {
            "image/png": "[encoded data removed]",
            "text/plain": [
              "<matplotlib.figure.Figure at 0x7f292ab56390>"
            ]
          },
          "metadata": {
            "tags": []
          }
        }
      ]
    },
    {
      "metadata": {
        "id": "C62I0aLypXUB",
        "colab_type": "code",
        "colab": {}
      },
      "cell_type": "code",
      "source": [
        "lr = 1e-2"
      ],
      "execution_count": 0,
      "outputs": []
    },
    {
      "metadata": {
        "id": "6AL0kT4kpgrb",
        "colab_type": "code",
        "colab": {
          "base_uri": "https://localhost:8080/",
          "height": 185
        },
        "outputId": "1a0b6446-ddc2-4ce9-8652-9c2fe9f257a7"
      },
      "cell_type": "code",
      "source": [
        "learn.fit(lr, 3, cycle_len=1, cycle_mult=2)"
      ],
      "execution_count": 15,
      "outputs": [
        {
          "output_type": "display_data",
          "data": {
            "application/vnd.jupyter.widget-view+json": {
              "model_id": "92ed894bedf34641a1b78b29a21dda69",
              "version_minor": 0,
              "version_major": 2
            },
            "text/plain": [
              "HBox(children=(IntProgress(value=0, description='Epoch', max=7), HTML(value='')))"
            ]
          },
          "metadata": {
            "tags": []
          }
        },
        {
          "output_type": "stream",
          "text": [
            "epoch      trn_loss   val_loss   accuracy   \n",
            "    0      1.25594    1.113509   0.56338   \n",
            "    1      1.17217    1.041563   0.535211  \n",
            " 92%|█████████▏| 143/156 [00:17<00:01,  8.08it/s, loss=1.11]"
          ],
          "name": "stdout"
        },
        {
          "output_type": "stream",
          "text": [
            "    2      1.111513   1.052074   0.591549  \n",
            "    3      1.124677   1.023366   0.521127  \n",
            "    4      1.089646   1.05539    0.619718  \n",
            " 67%|██████▋   | 105/156 [00:14<00:07,  7.16it/s, loss=1.06]"
          ],
          "name": "stdout"
        },
        {
          "output_type": "stream",
          "text": [
            "    5      1.053123   1.004336   0.591549  \n",
            "    6      1.030807   0.994553   0.619718  \n"
          ],
          "name": "stdout"
        },
        {
          "output_type": "execute_result",
          "data": {
            "text/plain": [
              "[array([0.99455]), 0.6197183123776611]"
            ]
          },
          "metadata": {
            "tags": []
          },
          "execution_count": 15
        }
      ]
    },
    {
      "metadata": {
        "id": "pI2idlJHqfrx",
        "colab_type": "code",
        "colab": {}
      },
      "cell_type": "code",
      "source": [
        "lrs = np.array([lr/9,lr/3,lr])"
      ],
      "execution_count": 0,
      "outputs": []
    },
    {
      "metadata": {
        "id": "vzLP53l6qho9",
        "colab_type": "code",
        "colab": {
          "base_uri": "https://localhost:8080/",
          "height": 185
        },
        "outputId": "5f876881-0fae-4de6-9d8d-e39e340bf990"
      },
      "cell_type": "code",
      "source": [
        "learn.unfreeze()\n",
        "learn.fit(lrs, 3, cycle_len=1, cycle_mult=2)"
      ],
      "execution_count": 17,
      "outputs": [
        {
          "output_type": "display_data",
          "data": {
            "application/vnd.jupyter.widget-view+json": {
              "model_id": "071fb415ddfd4e3b830376010eae9688",
              "version_minor": 0,
              "version_major": 2
            },
            "text/plain": [
              "HBox(children=(IntProgress(value=0, description='Epoch', max=7), HTML(value='')))"
            ]
          },
          "metadata": {
            "tags": []
          }
        },
        {
          "output_type": "stream",
          "text": [
            "epoch      trn_loss   val_loss   accuracy   \n",
            "    0      0.459074   0.632228   0.760563  \n",
            "    1      0.242601   0.868986   0.774648  \n",
            " 56%|█████▋    | 88/156 [00:20<00:16,  4.25it/s, loss=0.191]"
          ],
          "name": "stdout"
        },
        {
          "output_type": "stream",
          "text": [
            "    2      0.174215   0.683607   0.774648  \n",
            "    3      0.151092   0.824025   0.802817  \n",
            "    4      0.10643    0.64655    0.887324  \n",
            " 20%|█▉        | 31/156 [00:09<00:38,  3.25it/s, loss=0.105]"
          ],
          "name": "stdout"
        },
        {
          "output_type": "stream",
          "text": [
            "    5      0.072299   0.781302   0.830986  \n",
            "    6      0.062603   0.741094   0.816901  \n"
          ],
          "name": "stdout"
        },
        {
          "output_type": "execute_result",
          "data": {
            "text/plain": [
              "[array([0.74109]), 0.8169014109692103]"
            ]
          },
          "metadata": {
            "tags": []
          },
          "execution_count": 17
        }
      ]
    },
    {
      "metadata": {
        "id": "lGh34gmbr3Mf",
        "colab_type": "code",
        "colab": {}
      },
      "cell_type": "code",
      "source": [
        "learn.save(f'{sz}')"
      ],
      "execution_count": 0,
      "outputs": []
    },
    {
      "metadata": {
        "id": "BRWoAyahr6Nl",
        "colab_type": "code",
        "colab": {
          "base_uri": "https://localhost:8080/",
          "height": 347
        },
        "outputId": "6f3ff06a-174b-4305-9ed0-c3511e38e22e"
      },
      "cell_type": "code",
      "source": [
        "learn.sched.plot_loss()"
      ],
      "execution_count": 19,
      "outputs": [
        {
          "output_type": "display_data",
          "data": {
            "image/png": "[encoded data removed]",
            "text/plain": [
              "<matplotlib.figure.Figure at 0x7f299c1ba320>"
            ]
          },
          "metadata": {
            "tags": []
          }
        }
      ]
    },
    {
      "metadata": {
        "id": "zKcXOnATr-V4",
        "colab_type": "code",
        "colab": {}
      },
      "cell_type": "code",
      "source": [
        "sz=128"
      ],
      "execution_count": 0,
      "outputs": []
    },
    {
      "metadata": {
        "id": "OglRZTZ7r_cH",
        "colab_type": "code",
        "colab": {
          "base_uri": "https://localhost:8080/",
          "height": 185
        },
        "outputId": "f3d8f2ab-5e32-4ff8-fa69-c9a928523b4a"
      },
      "cell_type": "code",
      "source": [
        "learn.set_data(get_data(sz))\n",
        "learn.freeze()\n",
        "learn.fit(lr, 3, cycle_len=1, cycle_mult=2)"
      ],
      "execution_count": 21,
      "outputs": [
        {
          "output_type": "display_data",
          "data": {
            "application/vnd.jupyter.widget-view+json": {
              "model_id": "ce700e5ca8da4c249caf40debec3168c",
              "version_minor": 0,
              "version_major": 2
            },
            "text/plain": [
              "HBox(children=(IntProgress(value=0, description='Epoch', max=7), HTML(value='')))"
            ]
          },
          "metadata": {
            "tags": []
          }
        },
        {
          "output_type": "stream",
          "text": [
            "epoch      trn_loss   val_loss   accuracy   \n",
            "    0      0.521724   0.439494   0.816901  \n",
            "    1      0.451488   0.407567   0.887324  \n",
            " 56%|█████▋    | 88/156 [00:21<00:16,  4.07it/s, loss=0.428]"
          ],
          "name": "stdout"
        },
        {
          "output_type": "stream",
          "text": [
            "    2      0.39663    0.437722   0.84507   \n",
            "    3      0.403651   0.510314   0.802817  \n",
            "    4      0.354249   0.469014   0.802817  \n",
            " 20%|█▉        | 31/156 [00:08<00:35,  3.56it/s, loss=0.357]"
          ],
          "name": "stdout"
        },
        {
          "output_type": "stream",
          "text": [
            "    5      0.339742   0.425558   0.873239  \n",
            "    6      0.344276   0.448104   0.84507   \n"
          ],
          "name": "stdout"
        },
        {
          "output_type": "execute_result",
          "data": {
            "text/plain": [
              "[array([0.4481]), 0.8450704242142153]"
            ]
          },
          "metadata": {
            "tags": []
          },
          "execution_count": 21
        }
      ]
    },
    {
      "metadata": {
        "id": "xRTy5MsAsGSp",
        "colab_type": "code",
        "colab": {
          "base_uri": "https://localhost:8080/",
          "height": 168
        },
        "outputId": "a07c7a22-a831-4f26-e977-1c4030175074"
      },
      "cell_type": "code",
      "source": [
        "learn.unfreeze()\n",
        "learn.fit(lrs, 3, cycle_len=1, cycle_mult=2)\n",
        "learn.save(f'{sz}')\n"
      ],
      "execution_count": 22,
      "outputs": [
        {
          "output_type": "display_data",
          "data": {
            "application/vnd.jupyter.widget-view+json": {
              "model_id": "22acfac36ad14421826a6c5df2f5fae9",
              "version_minor": 0,
              "version_major": 2
            },
            "text/plain": [
              "HBox(children=(IntProgress(value=0, description='Epoch', max=7), HTML(value='')))"
            ]
          },
          "metadata": {
            "tags": []
          }
        },
        {
          "output_type": "stream",
          "text": [
            "epoch      trn_loss   val_loss   accuracy   \n",
            "    0      0.148826   0.50149    0.859155  \n",
            "    1      0.081897   0.578514   0.859155  \n",
            " 56%|█████▌    | 87/156 [00:52<00:41,  1.67it/s, loss=0.0583]"
          ],
          "name": "stdout"
        },
        {
          "output_type": "stream",
          "text": [
            "    2      0.054209   0.619244   0.859155  \n",
            "    3      0.044991   0.67624    0.901408  \n",
            "    4      0.027531   0.839216   0.887324  \n",
            " 19%|█▊        | 29/156 [00:18<01:22,  1.53it/s, loss=0.0213]"
          ],
          "name": "stdout"
        },
        {
          "output_type": "stream",
          "text": [
            "    5      0.022807   0.864652   0.901408  \n",
            "    6      0.01376    0.887664   0.901408  \n"
          ],
          "name": "stdout"
        }
      ]
    },
    {
      "metadata": {
        "id": "Q3pkdGLHsH3j",
        "colab_type": "code",
        "colab": {}
      },
      "cell_type": "code",
      "source": [
        "sz=256\n"
      ],
      "execution_count": 0,
      "outputs": []
    },
    {
      "metadata": {
        "id": "tQwRhxzVsT7w",
        "colab_type": "code",
        "colab": {
          "base_uri": "https://localhost:8080/",
          "height": 185
        },
        "outputId": "3391ba3d-2de1-4180-e613-bf1ba76d45b8"
      },
      "cell_type": "code",
      "source": [
        "learn.set_data(get_data(sz))\n",
        "learn.freeze()\n",
        "learn.fit(lr, 3, cycle_len=1, cycle_mult=2)"
      ],
      "execution_count": 24,
      "outputs": [
        {
          "output_type": "display_data",
          "data": {
            "application/vnd.jupyter.widget-view+json": {
              "model_id": "6b1a2722577d47ebb82218744e621bf2",
              "version_minor": 0,
              "version_major": 2
            },
            "text/plain": [
              "HBox(children=(IntProgress(value=0, description='Epoch', max=7), HTML(value='')))"
            ]
          },
          "metadata": {
            "tags": []
          }
        },
        {
          "output_type": "stream",
          "text": [
            "epoch      trn_loss   val_loss   accuracy   \n",
            "    0      0.283245   0.399156   0.859155  \n",
            "    1      0.232262   0.424561   0.84507   \n",
            " 56%|█████▋    | 88/156 [01:05<00:50,  1.34it/s, loss=0.221]"
          ],
          "name": "stdout"
        },
        {
          "output_type": "stream",
          "text": [
            "    2      0.217257   0.382456   0.887324  \n",
            "    3      0.20214    0.444754   0.84507   \n",
            "    4      0.172595   0.35486    0.887324  \n",
            " 20%|█▉        | 31/156 [00:24<01:40,  1.25it/s, loss=0.162]"
          ],
          "name": "stdout"
        },
        {
          "output_type": "stream",
          "text": [
            "    5      0.175394   0.351497   0.873239  \n",
            "    6      0.176159   0.357452   0.873239  \n"
          ],
          "name": "stdout"
        },
        {
          "output_type": "execute_result",
          "data": {
            "text/plain": [
              "[array([0.35745]), 0.8732394370394694]"
            ]
          },
          "metadata": {
            "tags": []
          },
          "execution_count": 24
        }
      ]
    },
    {
      "metadata": {
        "id": "BmPPUNwIsU0A",
        "colab_type": "code",
        "colab": {
          "base_uri": "https://localhost:8080/",
          "height": 168
        },
        "outputId": "d91b3bc9-e65f-4ef2-b38c-5a5312fd93e9"
      },
      "cell_type": "code",
      "source": [
        "learn.unfreeze()\n",
        "learn.fit(lrs, 3, cycle_len=1, cycle_mult=2)\n",
        "learn.save(f'{sz}')"
      ],
      "execution_count": 25,
      "outputs": [
        {
          "output_type": "display_data",
          "data": {
            "application/vnd.jupyter.widget-view+json": {
              "model_id": "4d824f92aff64e41b0e0dd0a4233bce0",
              "version_minor": 0,
              "version_major": 2
            },
            "text/plain": [
              "HBox(children=(IntProgress(value=0, description='Epoch', max=7), HTML(value='')))"
            ]
          },
          "metadata": {
            "tags": []
          }
        },
        {
          "output_type": "stream",
          "text": [
            "epoch      trn_loss   val_loss   accuracy   \n",
            "    0      0.085886   0.384487   0.915493  \n",
            "    1      0.046486   0.532403   0.901408  \n",
            " 55%|█████▌    | 86/156 [02:41<02:11,  1.88s/it, loss=0.0263]"
          ],
          "name": "stdout"
        },
        {
          "output_type": "stream",
          "text": [
            "    2      0.020652   0.535763   0.929577  \n",
            "    3      0.019672   0.588077   0.915493  \n",
            "    4      0.012381   0.717901   0.901408  \n",
            " 19%|█▊        | 29/156 [00:56<04:05,  1.93s/it, loss=0.0115]"
          ],
          "name": "stdout"
        },
        {
          "output_type": "stream",
          "text": [
            "    5      0.011987   0.698702   0.915493  \n",
            "    6      0.0096     0.698117   0.901408  \n"
          ],
          "name": "stdout"
        }
      ]
    },
    {
      "metadata": {
        "id": "YVkUQsoQsaak",
        "colab_type": "code",
        "colab": {
          "base_uri": "https://localhost:8080/",
          "height": 17
        },
        "outputId": "b3850d07-70e2-474f-9eb7-96b04160809a"
      },
      "cell_type": "code",
      "source": [
        "preds, y = learn.TTA()\n",
        "final_preds = np.mean(preds, 0)"
      ],
      "execution_count": 42,
      "outputs": [
        {
          "output_type": "stream",
          "text": [
            ""
          ],
          "name": "stdout"
        }
      ]
    },
    {
      "metadata": {
        "id": "N2BzO91OJ4lO",
        "colab_type": "code",
        "colab": {
          "base_uri": "https://localhost:8080/",
          "height": 499
        },
        "outputId": "978a8182-6de8-4f10-f467-cc994973c8c2"
      },
      "cell_type": "code",
      "source": [
        "print(final_preds.shape)\n",
        "final_final_preds = []\n",
        "for row in final_preds:\n",
        "  for i in range(4):\n",
        "    if row[i] == max(row):\n",
        "      if i == 0:\n",
        "        final_final_preds.append(0)\n",
        "      elif i == 1:\n",
        "        final_final_preds.append(1)\n",
        "      elif i == 2:\n",
        "        final_final_preds.append(2)\n",
        "      else:\n",
        "        final_final_preds.append(3)\n",
        "        \n",
        "from sklearn.metrics import confusion_matrix\n",
        "cm = confusion_matrix(y, final_final_preds)\n",
        "plot_confusion_matrix(cm, data.classes)"
      ],
      "execution_count": 44,
      "outputs": [
        {
          "output_type": "stream",
          "text": [
            "(71, 4)\n",
            "[[11  0  0  2]\n",
            " [ 0  6  0  0]\n",
            " [ 1  0  3  0]\n",
            " [ 4  0  0 44]]\n"
          ],
          "name": "stdout"
        },
        {
          "output_type": "display_data",
          "data": {
            "image/png": "[encoded data removed]",
            "text/plain": [
              "<matplotlib.figure.Figure at 0x7f292a3a4f28>"
            ]
          },
          "metadata": {
            "tags": []
          }
        }
      ]
    }
  ]
}